{
  "nbformat": 4,
  "nbformat_minor": 0,
  "metadata": {
    "colab": {
      "name": "Numerical Integration .ipynb",
      "provenance": [],
      "authorship_tag": "ABX9TyOl66x9XGk9kgikXCXgrKwU",
      "include_colab_link": true
    },
    "kernelspec": {
      "name": "python3",
      "display_name": "Python 3"
    },
    "language_info": {
      "name": "python"
    }
  },
  "cells": [
    {
      "cell_type": "markdown",
      "metadata": {
        "id": "view-in-github",
        "colab_type": "text"
      },
      "source": [
        "<a href=\"https://colab.research.google.com/github/ArmielynObinguar/Computational-Physics/blob/main/Armielyn_Obinguar_Numerical_Integration_.ipynb\" target=\"_parent\"><img src=\"https://colab.research.google.com/assets/colab-badge.svg\" alt=\"Open In Colab\"/></a>"
      ]
    },
    {
      "cell_type": "markdown",
      "source": [
        "##Numerical Integration \n",
        "\n",
        "Name: Armielyn C. Obinguar \n",
        "Section: BS- Physics 3-2 \n"
      ],
      "metadata": {
        "id": "88HTcIyhDfCB"
      }
    },
    {
      "cell_type": "markdown",
      "source": [
        "#1"
      ],
      "metadata": {
        "id": "DZmNz-CUV9dr"
      }
    },
    {
      "cell_type": "code",
      "source": [
        "import math\n",
        "def func( x ):\n",
        " return math.log(x)\n",
        "def simpsons_( ll, ul, n ):\n",
        " h = ( ul - ll )/n\n",
        " x = list()\n",
        " fx = list()\n",
        " i = 0\n",
        " while i<= n:\n",
        "  x.append(ll + i * h)\n",
        "  fx.append(func(x[i]))\n",
        "  i += 1\n",
        " res = 0\n",
        " i = 0\n",
        " while i<= n:\n",
        "  if i == 0 or i == n:\n",
        "   res+= fx[i]\n",
        "  elif i % 2 != 0:\n",
        "   res+= 4 * fx[i]\n",
        "  else:\n",
        "   res+= 2 * fx[i]\n",
        "  i+= 1\n",
        " res = res * (h / 3)\n",
        " return res\n",
        "lower_limit = 5\n",
        "upper_limit = 6.2\n",
        "n = 8\n",
        "print(\"%.6f\"% simpsons_(lower_limit, upper_limit, n))"
      ],
      "metadata": {
        "colab": {
          "base_uri": "https://localhost:8080/"
        },
        "id": "dxOAmLtRVwyg",
        "outputId": "dda8638b-50ef-4e88-bd29-ff9e1d7ad3d2"
      },
      "execution_count": null,
      "outputs": [
        {
          "output_type": "stream",
          "name": "stdout",
          "text": [
            "2.065016\n"
          ]
        }
      ]
    },
    {
      "cell_type": "markdown",
      "source": [
        "#2"
      ],
      "metadata": {
        "id": "oNxU1_LSWAz3"
      }
    },
    {
      "cell_type": "code",
      "source": [
        "import numpy as np\n",
        "\n",
        "a = 0\n",
        "b = np.pi\n",
        "n = 11\n",
        "h = (b - a) / (n - 1)\n",
        "x = np.linspace(a, b, n)\n",
        "f = np.sin(x)\n",
        "\n",
        "I_simp = (h/3) * (f[0] + 2*sum(f[:n-2:2]) \\\n",
        "            + 4*sum(f[1:n-1:2]) + f[n-1])\n",
        "err_simp = 2 - I_simp\n",
        "\n",
        "print(I_simp)\n",
        "print(err_simp)"
      ],
      "metadata": {
        "colab": {
          "base_uri": "https://localhost:8080/"
        },
        "id": "lUmVhny7Dfi5",
        "outputId": "72bf91ad-0ec1-4bf9-b9ff-589ea34c2c31"
      },
      "execution_count": null,
      "outputs": [
        {
          "output_type": "stream",
          "name": "stdout",
          "text": [
            "2.0001095173150043\n",
            "-0.00010951731500430384\n"
          ]
        }
      ]
    },
    {
      "cell_type": "code",
      "source": [
        "def f(x):\n",
        "    return 1/(1 + x**2)\n",
        "\n",
        "# Implementing Simpson's 1/3 \n",
        "def simpson13(x0,xn,n):\n",
        "    # calculating step size\n",
        "    h = (xn - x0) / n\n",
        "    \n",
        "    # Finding sum \n",
        "    integration = f(x0) + f(xn)\n",
        "    \n",
        "    for i in range(1,n):\n",
        "        k = x0 + i*h\n",
        "        \n",
        "        if i%2 == 0:\n",
        "            integration = integration + 2 * f(k)\n",
        "        else:\n",
        "            integration = integration + 4 * f(k)\n",
        "    \n",
        "    # Finding final integration value\n",
        "    integration = integration * h/3\n",
        "    \n",
        "    return integration\n",
        "    \n",
        "# Input section\n",
        "lower_limit = float(input(\"Enter lower limit of integration: \"))\n",
        "upper_limit = float(input(\"Enter upper limit of integration: \"))\n",
        "sub_interval = int(input(\"Enter number of sub intervals: \"))\n",
        "\n",
        "# Call trapezoidal() method and get result\n",
        "result = simpson13(lower_limit, upper_limit, sub_interval)\n",
        "print(\"Integration result by Simpson's 1/3 method is: %0.6f\" % (result) )"
      ],
      "metadata": {
        "colab": {
          "base_uri": "https://localhost:8080/"
        },
        "id": "EIXJUyzgDmJB",
        "outputId": "1e9bab0d-2ae2-41ac-d714-4db707b1216e"
      },
      "execution_count": null,
      "outputs": [
        {
          "output_type": "stream",
          "name": "stdout",
          "text": [
            "Enter lower limit of integration: 1\n",
            "Enter upper limit of integration: 2\n",
            "Enter number of sub intervals: 10\n",
            "Integration result by Simpson's 1/3 method is: 0.321750\n"
          ]
        }
      ]
    },
    {
      "cell_type": "code",
      "source": [
        "def simpson(f, a, b, n):\n",
        "    h=(b-a)/n\n",
        "    k=0.0\n",
        "    x=a + h\n",
        "    for i in range(1,n/2 + 1):\n",
        "        k += 4*f(x)\n",
        "        x += 2*h\n",
        "\n",
        "    x = a + 2*h\n",
        "    for i in range(1,n/2):\n",
        "        k += 2*f(x)\n",
        "        x += 2*h\n",
        "    return (h/3)*(f(a)+f(b)+k) \n",
        "             \n",
        "\n",
        "\n",
        "# Write a program to evaluate a definite integral using Simpson's rule with\n",
        "# n subdivisions\n",
        "\n",
        "from math import *\n",
        "from pylab import *\n",
        "\n",
        "def simpson(f, a, b, n):\n",
        "    h=(b-a)/n\n",
        "    k=0.0\n",
        "    x=a\n",
        "    for i in range(1,n/2):\n",
        "        x += 2*h\n",
        "        k += 4*f(x)\n",
        "    for i in range(2,(n/2)-1):\n",
        "        x += 2*h\n",
        "        k += 2*f(x)\n",
        "    return (h/3)*(f(a)+f(b)+k)\n",
        "\n",
        "def function(x): return x\n",
        "\n",
        "print(\"function, 0.0, 1.0, 100\")\n",
        "\n"
      ],
      "metadata": {
        "colab": {
          "base_uri": "https://localhost:8080/"
        },
        "id": "LEy5NGSPD3I1",
        "outputId": "16f996c2-44a2-4207-857b-55a808447fb3"
      },
      "execution_count": null,
      "outputs": [
        {
          "output_type": "stream",
          "name": "stdout",
          "text": [
            "function, 0.0, 1.0, 100\n"
          ]
        }
      ]
    }
  ]
}