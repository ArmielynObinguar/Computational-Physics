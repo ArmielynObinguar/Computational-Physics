{
  "nbformat": 4,
  "nbformat_minor": 0,
  "metadata": {
    "colab": {
      "name": "Numerical Differentiation  Computational Physics ",
      "provenance": [],
      "authorship_tag": "ABX9TyMQGFWgr4+svTh8gNwYxGnQ",
      "include_colab_link": true
    },
    "kernelspec": {
      "name": "python3",
      "display_name": "Python 3"
    },
    "language_info": {
      "name": "python"
    }
  },
  "cells": [
    {
      "cell_type": "markdown",
      "metadata": {
        "id": "view-in-github",
        "colab_type": "text"
      },
      "source": [
        "<a href=\"https://colab.research.google.com/github/ArmielynObinguar/Computational-Physics/blob/main/Numerical_Differentiation_Computational_Physics.ipynb\" target=\"_parent\"><img src=\"https://colab.research.google.com/assets/colab-badge.svg\" alt=\"Open In Colab\"/></a>"
      ]
    },
    {
      "cell_type": "markdown",
      "source": [
        "#Numerical Differentiation \n"
      ],
      "metadata": {
        "id": "f_mfcsefsOn1"
      }
    },
    {
      "cell_type": "code",
      "source": [
        "#objectives: 1) demonstrate numerical differentialtion,\n",
        "\n",
        "#and 2) illustrate results graphically\n",
        "\n",
        "import numpy\n",
        "\n",
        "import math\n",
        "\n",
        "from numpy import arange, cos\n",
        "\n",
        "import matplotlib.pyplot\n",
        "\n",
        "from matplotlib.pyplot import*\n",
        "\n",
        "# x+delta.\n",
        "\n",
        "def der(x,delta):\n",
        "\n",
        "     delta = float(delta)\n",
        "\n",
        "     if delta < (0.0000001):\n",
        "\n",
        "         return 1/delta\n",
        "\n",
        "   else:\n",
        "\n",
        "       slope =(f(x + delta) - f(x))/delta\n",
        "\n",
        "       return slope\n",
        "\n",
        "# Define the function y=100e^(-0.0482t)\n",
        "\n",
        "def f(x):\n",
        "\n",
        "    f = (100.0**(-0.0428*x))\n",
        "\n",
        "return f\n",
        "\n",
        "\n",
        "number = 510\n",
        "\n",
        "increment = 10\n",
        "\n",
        "y = []\n",
        "\n",
        "x = []\n",
        "\n",
        "figure()\n",
        "\n",
        "f=[3,-4,-12,0,2]\n",
        "\n",
        "print ('\\nFunction')\n",
        "\n",
        "print f\n",
        "\n",
        "print ('\\nFirst Derivative')\n",
        "\n",
        "g= f.deriv(m=1)# First derivative with m=1.\n",
        "\n",
        "print g\n",
        "\n",
        " \n",
        "\n",
        "print ('\\nSecond Derivative')\n",
        "\n",
        "q=f.derive(m=2) #Second derivative with m=2.\n",
        "\n",
        "print q\n",
        "\n",
        "x=linspace(-2,3,101)\n",
        "\n",
        "y=p(x)\n",
        "\n",
        "yg=g(x) #These statements define points for plotting.\n",
        "\n",
        "yq=q(x)\n",
        "\n",
        "y0=0*x #This statement defines the y axis for plotting.\n",
        "\n",
        "plot (x,y,lable='y=f(x)')\n",
        "\n",
        "plot (x,y,lable ='y=f(x)')\n",
        "\n",
        "plot (x,yg,lable ='First Derivative')\n",
        "\n",
        "plot (x,yq,lable ='Second Derivative')\n",
        "\n",
        "legend(loc='best')\n",
        "\n",
        "plot (x,y0)\n",
        "\n",
        "xlable('x-axis')\n",
        "\n",
        "ylable(\"y-axis')\n",
        "\n",
        "\n",
        "Show()"
      ],
      "metadata": {
        "id": "ZdB9DBNdsTEY"
      },
      "execution_count": null,
      "outputs": []
    }
  ]
}