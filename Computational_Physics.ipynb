{
  "nbformat": 4,
  "nbformat_minor": 0,
  "metadata": {
    "colab": {
      "name": "Computational Physics.ipynb",
      "provenance": []
    },
    "kernelspec": {
      "name": "python3",
      "display_name": "Python 3"
    },
    "language_info": {
      "name": "python"
    }
  },
  "cells": [
    {
      "cell_type": "markdown",
      "source": [
        "#Program for Implementation of Runge Kutta Method"
      ],
      "metadata": {
        "id": "Q4RiluWvfjQg"
      }
    },
    {
      "cell_type": "markdown",
      "source": [
        "Simple Implementation of Runge Kutta Method to Basis Differential Equation"
      ],
      "metadata": {
        "id": "ZAv_IS_GiQ_T"
      }
    },
    {
      "cell_type": "code",
      "source": [
        "\n",
        "#differential equation \"dy / dx = (x - y)/5\"\n",
        "def dydx(x, y):\n",
        " return ((x - y)/5)"
      ],
      "metadata": {
        "id": "F5mZA2vQdCY4"
      },
      "execution_count": 16,
      "outputs": []
    },
    {
      "cell_type": "markdown",
      "source": [
        "We set the argument to defining that our equation is dy/dx = (x-y)/5 "
      ],
      "metadata": {
        "id": "WDsPpewjiXjy"
      }
    },
    {
      "cell_type": "code",
      "source": [
        "def rungeKutta(x0, y0, x, h):\n",
        " # Count number of iterations using step size or\n",
        " # step height h\n",
        " n = (int)((x - x0)/h)\n",
        " # Iterate for number of iterations\n",
        " y = y0\n",
        " for i in range(1, n + 1):\n",
        "  #Apply Runge Kutta Formulas to find next value of y\n",
        "  k1 = h * dydx(x0, y)\n",
        "  k2 = h * dydx(x0 + 0.5 * h, y + 0.5 * k1)\n",
        "  k3 = h * dydx(x0 + 0.5 * h, y + 0.5 * k2)\n",
        "  k4 = h * dydx(x0 + h, y + k3)\n",
        "\n",
        "  # Update next value of y\n",
        "  y = y + (2.0 / 7.0)*(k1 + 2 * k2 + 2 * k3 + k4)\n",
        "\n",
        "  # Update next value of x\n",
        "  x0 = x0 + h\n",
        " return y"
      ],
      "metadata": {
        "id": "Q0FZ4Im_f30y"
      },
      "execution_count": 17,
      "outputs": []
    },
    {
      "cell_type": "code",
      "source": [
        "# Apply the values (changeable) for computation \n",
        "x0 = 0\n",
        "y = 2\n",
        "x = 5\n",
        "h = 2\n",
        "print ('The value of y at this Ruge Kutta Method Implementation of  x is:', rungeKutta(x0, y, x, h))\n"
      ],
      "metadata": {
        "colab": {
          "base_uri": "https://localhost:8080/"
        },
        "id": "gqOcWbeff51h",
        "outputId": "826a7892-c318-4c1b-fef2-b592da455863"
      },
      "execution_count": 18,
      "outputs": [
        {
          "output_type": "stream",
          "name": "stdout",
          "text": [
            "The value of y at this Ruge Kutta Method Implementation of  x is: 2.374360189387755\n"
          ]
        }
      ]
    },
    {
      "cell_type": "markdown",
      "source": [
        "Other Implementation Ruge Kutta to Differential Equation "
      ],
      "metadata": {
        "id": "U50thCvPi0M7"
      }
    },
    {
      "cell_type": "code",
      "source": [
        ""
      ],
      "metadata": {
        "id": "vXkAO3whi54z"
      },
      "execution_count": null,
      "outputs": []
    }
  ]
}