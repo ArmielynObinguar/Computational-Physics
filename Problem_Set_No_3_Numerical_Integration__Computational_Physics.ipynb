{
  "nbformat": 4,
  "nbformat_minor": 0,
  "metadata": {
    "colab": {
      "name": "Problem Set No. 3 - Numerical Integration_ Computational Physics ",
      "provenance": [],
      "authorship_tag": "ABX9TyM+oQTg1/Coe1DInk4neayG",
      "include_colab_link": true
    },
    "kernelspec": {
      "name": "python3",
      "display_name": "Python 3"
    },
    "language_info": {
      "name": "python"
    }
  },
  "cells": [
    {
      "cell_type": "markdown",
      "metadata": {
        "id": "view-in-github",
        "colab_type": "text"
      },
      "source": [
        "<a href=\"https://colab.research.google.com/github/ArmielynObinguar/Computational-Physics/blob/main/Problem_Set_No_3_Numerical_Integration__Computational_Physics.ipynb\" target=\"_parent\"><img src=\"https://colab.research.google.com/assets/colab-badge.svg\" alt=\"Open In Colab\"/></a>"
      ]
    },
    {
      "cell_type": "markdown",
      "source": [
        "#1 Develop a program that can calculate the integral with a given integrand f(x) in the region [a, b] by the Simpson rule with nonuniform data points. Check its accuracy with the integral e-*dx with x; = jhela, where h and a are small constants. %3D"
      ],
      "metadata": {
        "id": "DLRaOVOArWDS"
      }
    },
    {
      "cell_type": "code",
      "source": [
        "\n",
        "import math\n",
        "def func( x ):\n",
        " return math.log(x)\n",
        "def simpsons_( ll, ul, n ):\n",
        " h = ( ul - ll )/n\n",
        " x = list()\n",
        " fx = list()\n",
        " i = 0\n",
        " while i<= n:\n",
        "  x.append(ll + i * h)\n",
        "  fx.append(func(x[i]))\n",
        "  i += 1\n",
        " res = 0\n",
        " i = 0\n",
        " while i<= n:\n",
        "  if i == 0 or i == n:\n",
        "   res+= fx[i]\n",
        "  elif i % 2 != 0:\n",
        "   res+= 4 * fx[i]\n",
        "  else:\n",
        "   res+= 2 * fx[i]\n",
        "  i+= 1\n",
        " res = res * (h / 3)\n",
        " return res\n",
        "lower_limit = 5\n",
        "upper_limit = 6.2\n",
        "n = 8\n",
        "print(\"%.6f\"% simpsons_(lower_limit, upper_limit, n))"
      ],
      "metadata": {
        "colab": {
          "base_uri": "https://localhost:8080/"
        },
        "id": "qtW_YCTgsbp7",
        "outputId": "5697589e-bcd1-43d9-adda-7433c6c48cee"
      },
      "execution_count": 3,
      "outputs": [
        {
          "output_type": "stream",
          "name": "stdout",
          "text": [
            "2.065016\n"
          ]
        }
      ]
    }
  ]
}